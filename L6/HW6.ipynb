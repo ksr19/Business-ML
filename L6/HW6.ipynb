{
 "cells": [
  {
   "cell_type": "markdown",
   "metadata": {},
   "source": [
    "## Урок 6. Домашнее задание"
   ]
  },
  {
   "cell_type": "code",
   "execution_count": 684,
   "metadata": {},
   "outputs": [],
   "source": [
    "import numpy as np\n",
    "import pandas as pd\n",
    "\n",
    "from sklearn.pipeline import Pipeline, FeatureUnion, make_pipeline\n",
    "from sklearn.base import BaseEstimator, TransformerMixin\n",
    "from sklearn.model_selection import train_test_split\n",
    "from sklearn.ensemble import GradientBoostingClassifier, RandomForestClassifier\n",
    "from sklearn.metrics import f1_score, roc_auc_score, precision_score,\\\n",
    "                            classification_report, precision_recall_curve, confusion_matrix"
   ]
  },
  {
   "cell_type": "markdown",
   "metadata": {},
   "source": [
    "1. взять любой набор данных для бинарной классификации (можно скачать один из модельных с https://archive.ics.uci.edu/ml/datasets.php)"
   ]
  },
  {
   "cell_type": "markdown",
   "metadata": {},
   "source": [
    "Воспользуемся для анализа датасетом \"Online Shoppers Purchasing Intention Dataset Data Set\" (https://archive.ics.uci.edu/ml/datasets/Online+Shoppers+Purchasing+Intention+Dataset), который содержит информацию о онлайн поведении пользователей и о том, произошла ли покупка по итогам посещения онлайн-магазина."
   ]
  },
  {
   "cell_type": "code",
   "execution_count": 685,
   "metadata": {},
   "outputs": [
    {
     "data": {
      "text/html": [
       "<div>\n",
       "<style scoped>\n",
       "    .dataframe tbody tr th:only-of-type {\n",
       "        vertical-align: middle;\n",
       "    }\n",
       "\n",
       "    .dataframe tbody tr th {\n",
       "        vertical-align: top;\n",
       "    }\n",
       "\n",
       "    .dataframe thead th {\n",
       "        text-align: right;\n",
       "    }\n",
       "</style>\n",
       "<table border=\"1\" class=\"dataframe\">\n",
       "  <thead>\n",
       "    <tr style=\"text-align: right;\">\n",
       "      <th></th>\n",
       "      <th>Administrative</th>\n",
       "      <th>Administrative_Duration</th>\n",
       "      <th>Informational</th>\n",
       "      <th>Informational_Duration</th>\n",
       "      <th>ProductRelated</th>\n",
       "      <th>ProductRelated_Duration</th>\n",
       "      <th>BounceRates</th>\n",
       "      <th>ExitRates</th>\n",
       "      <th>PageValues</th>\n",
       "      <th>SpecialDay</th>\n",
       "      <th>Month</th>\n",
       "      <th>OperatingSystems</th>\n",
       "      <th>Browser</th>\n",
       "      <th>Region</th>\n",
       "      <th>TrafficType</th>\n",
       "      <th>VisitorType</th>\n",
       "      <th>Weekend</th>\n",
       "      <th>Revenue</th>\n",
       "    </tr>\n",
       "  </thead>\n",
       "  <tbody>\n",
       "    <tr>\n",
       "      <th>0</th>\n",
       "      <td>0</td>\n",
       "      <td>0.0</td>\n",
       "      <td>0</td>\n",
       "      <td>0.0</td>\n",
       "      <td>1</td>\n",
       "      <td>0.000000</td>\n",
       "      <td>0.20</td>\n",
       "      <td>0.20</td>\n",
       "      <td>0.0</td>\n",
       "      <td>0.0</td>\n",
       "      <td>Feb</td>\n",
       "      <td>1</td>\n",
       "      <td>1</td>\n",
       "      <td>1</td>\n",
       "      <td>1</td>\n",
       "      <td>Returning_Visitor</td>\n",
       "      <td>False</td>\n",
       "      <td>False</td>\n",
       "    </tr>\n",
       "    <tr>\n",
       "      <th>1</th>\n",
       "      <td>0</td>\n",
       "      <td>0.0</td>\n",
       "      <td>0</td>\n",
       "      <td>0.0</td>\n",
       "      <td>2</td>\n",
       "      <td>64.000000</td>\n",
       "      <td>0.00</td>\n",
       "      <td>0.10</td>\n",
       "      <td>0.0</td>\n",
       "      <td>0.0</td>\n",
       "      <td>Feb</td>\n",
       "      <td>2</td>\n",
       "      <td>2</td>\n",
       "      <td>1</td>\n",
       "      <td>2</td>\n",
       "      <td>Returning_Visitor</td>\n",
       "      <td>False</td>\n",
       "      <td>False</td>\n",
       "    </tr>\n",
       "    <tr>\n",
       "      <th>2</th>\n",
       "      <td>0</td>\n",
       "      <td>0.0</td>\n",
       "      <td>0</td>\n",
       "      <td>0.0</td>\n",
       "      <td>1</td>\n",
       "      <td>0.000000</td>\n",
       "      <td>0.20</td>\n",
       "      <td>0.20</td>\n",
       "      <td>0.0</td>\n",
       "      <td>0.0</td>\n",
       "      <td>Feb</td>\n",
       "      <td>4</td>\n",
       "      <td>1</td>\n",
       "      <td>9</td>\n",
       "      <td>3</td>\n",
       "      <td>Returning_Visitor</td>\n",
       "      <td>False</td>\n",
       "      <td>False</td>\n",
       "    </tr>\n",
       "    <tr>\n",
       "      <th>3</th>\n",
       "      <td>0</td>\n",
       "      <td>0.0</td>\n",
       "      <td>0</td>\n",
       "      <td>0.0</td>\n",
       "      <td>2</td>\n",
       "      <td>2.666667</td>\n",
       "      <td>0.05</td>\n",
       "      <td>0.14</td>\n",
       "      <td>0.0</td>\n",
       "      <td>0.0</td>\n",
       "      <td>Feb</td>\n",
       "      <td>3</td>\n",
       "      <td>2</td>\n",
       "      <td>2</td>\n",
       "      <td>4</td>\n",
       "      <td>Returning_Visitor</td>\n",
       "      <td>False</td>\n",
       "      <td>False</td>\n",
       "    </tr>\n",
       "    <tr>\n",
       "      <th>4</th>\n",
       "      <td>0</td>\n",
       "      <td>0.0</td>\n",
       "      <td>0</td>\n",
       "      <td>0.0</td>\n",
       "      <td>10</td>\n",
       "      <td>627.500000</td>\n",
       "      <td>0.02</td>\n",
       "      <td>0.05</td>\n",
       "      <td>0.0</td>\n",
       "      <td>0.0</td>\n",
       "      <td>Feb</td>\n",
       "      <td>3</td>\n",
       "      <td>3</td>\n",
       "      <td>1</td>\n",
       "      <td>4</td>\n",
       "      <td>Returning_Visitor</td>\n",
       "      <td>True</td>\n",
       "      <td>False</td>\n",
       "    </tr>\n",
       "  </tbody>\n",
       "</table>\n",
       "</div>"
      ],
      "text/plain": [
       "   Administrative  Administrative_Duration  Informational  \\\n",
       "0               0                      0.0              0   \n",
       "1               0                      0.0              0   \n",
       "2               0                      0.0              0   \n",
       "3               0                      0.0              0   \n",
       "4               0                      0.0              0   \n",
       "\n",
       "   Informational_Duration  ProductRelated  ProductRelated_Duration  \\\n",
       "0                     0.0               1                 0.000000   \n",
       "1                     0.0               2                64.000000   \n",
       "2                     0.0               1                 0.000000   \n",
       "3                     0.0               2                 2.666667   \n",
       "4                     0.0              10               627.500000   \n",
       "\n",
       "   BounceRates  ExitRates  PageValues  SpecialDay Month  OperatingSystems  \\\n",
       "0         0.20       0.20         0.0         0.0   Feb                 1   \n",
       "1         0.00       0.10         0.0         0.0   Feb                 2   \n",
       "2         0.20       0.20         0.0         0.0   Feb                 4   \n",
       "3         0.05       0.14         0.0         0.0   Feb                 3   \n",
       "4         0.02       0.05         0.0         0.0   Feb                 3   \n",
       "\n",
       "   Browser  Region  TrafficType        VisitorType  Weekend  Revenue  \n",
       "0        1       1            1  Returning_Visitor    False    False  \n",
       "1        2       1            2  Returning_Visitor    False    False  \n",
       "2        1       9            3  Returning_Visitor    False    False  \n",
       "3        2       2            4  Returning_Visitor    False    False  \n",
       "4        3       1            4  Returning_Visitor     True    False  "
      ]
     },
     "execution_count": 685,
     "metadata": {},
     "output_type": "execute_result"
    }
   ],
   "source": [
    "df = pd.read_csv('online_shoppers_intention.csv')\n",
    "df.head()"
   ]
  },
  {
   "cell_type": "markdown",
   "metadata": {},
   "source": [
    "Отметим, что присутствуют как вещественные, так и категориальные признаки. Переведем целевую переменную, которая показывает произошла ли покупка, в числовой формат."
   ]
  },
  {
   "cell_type": "code",
   "execution_count": 686,
   "metadata": {},
   "outputs": [
    {
     "data": {
      "text/plain": [
       "0    10422\n",
       "1     1908\n",
       "Name: Revenue, dtype: int64"
      ]
     },
     "execution_count": 686,
     "metadata": {},
     "output_type": "execute_result"
    }
   ],
   "source": [
    "df['Revenue'] = np.where(df['Revenue'] == False, 0, 1)\n",
    "df['Revenue'].value_counts()"
   ]
  },
  {
   "cell_type": "markdown",
   "metadata": {},
   "source": [
    "2. сделать feature engineering"
   ]
  },
  {
   "cell_type": "code",
   "execution_count": 687,
   "metadata": {},
   "outputs": [],
   "source": [
    "#разделим данные на train/test\n",
    "X_train, X_test, y_train, y_test = train_test_split(df, df['Revenue'], random_state=42)"
   ]
  },
  {
   "cell_type": "code",
   "execution_count": 688,
   "metadata": {},
   "outputs": [],
   "source": [
    "continuous_columns = ['Administrative', 'Administrative_Duration', 'Informational', 'Informational_Duration', \n",
    "                       'ProductRelated', 'ProductRelated_Duration', 'BounceRates', 'ExitRates', 'PageValues', \n",
    "                       'SpecialDay']\n",
    "categorical_columns = ['Month', 'OperatingSystems', 'Browser', 'Region', 'TrafficType', 'VisitorType', 'Weekend']"
   ]
  },
  {
   "cell_type": "markdown",
   "metadata": {},
   "source": [
    "Воспользуемся пайплайном с энкодингом категориальных признаков, который был представлен на лекциях ранее. Вещественные признаки оставляем неизменными."
   ]
  },
  {
   "cell_type": "code",
   "execution_count": 689,
   "metadata": {},
   "outputs": [],
   "source": [
    "class FeatureSelector(BaseEstimator, TransformerMixin):\n",
    "    def __init__(self, column):\n",
    "        self.column = column\n",
    "\n",
    "    def fit(self, X, y=None):\n",
    "        return self\n",
    "\n",
    "    def transform(self, X, y=None):\n",
    "        return X[self.column]\n",
    "    \n",
    "class NumberSelector(BaseEstimator, TransformerMixin):\n",
    "    def __init__(self, key):\n",
    "        self.key = key\n",
    "\n",
    "    def fit(self, X, y=None):\n",
    "        return self\n",
    "\n",
    "    def transform(self, X):\n",
    "        return X[[self.key]]\n",
    "    \n",
    "class OHEEncoder(BaseEstimator, TransformerMixin):\n",
    "    def __init__(self, key):\n",
    "        self.key = key\n",
    "        self.columns = []\n",
    "\n",
    "    def fit(self, X, y=None):\n",
    "        self.columns = [col for col in pd.get_dummies(X, prefix=self.key).columns]\n",
    "        return self\n",
    "\n",
    "    def transform(self, X):\n",
    "        X = pd.get_dummies(X, prefix=self.key)\n",
    "        test_columns = [col for col in X.columns]\n",
    "        for col_ in self.columns:\n",
    "            if col_ not in test_columns:\n",
    "                X[col_] = 0\n",
    "        return X[self.columns]"
   ]
  },
  {
   "cell_type": "code",
   "execution_count": 690,
   "metadata": {},
   "outputs": [],
   "source": [
    "final_transformers = list()\n",
    "\n",
    "for cat_col in categorical_columns:\n",
    "    cat_transformer = Pipeline([\n",
    "                ('selector', FeatureSelector(column=cat_col)),\n",
    "                ('ohe', OHEEncoder(key=cat_col))\n",
    "            ])\n",
    "    final_transformers.append((cat_col, cat_transformer))\n",
    "    \n",
    "for cont_col in continuous_columns:\n",
    "    cont_transformer = Pipeline([\n",
    "                ('selector', NumberSelector(key=cont_col))\n",
    "            ])\n",
    "    final_transformers.append((cont_col, cont_transformer))\n",
    "    \n",
    "    \n",
    "feats = FeatureUnion(final_transformers)\n",
    "\n",
    "feature_processing = Pipeline([('feats', feats)])"
   ]
  },
  {
   "cell_type": "markdown",
   "metadata": {},
   "source": [
    "3. обучить любой классификатор (какой вам нравится)"
   ]
  },
  {
   "cell_type": "markdown",
   "metadata": {},
   "source": [
    "Построим пайплайн на базе градиентного бустинга."
   ]
  },
  {
   "cell_type": "code",
   "execution_count": 691,
   "metadata": {},
   "outputs": [],
   "source": [
    "pipeline = Pipeline([\n",
    "    ('features', feats),\n",
    "    ('classifier', GradientBoostingClassifier(random_state = 42)),\n",
    "])"
   ]
  },
  {
   "cell_type": "code",
   "execution_count": 692,
   "metadata": {},
   "outputs": [
    {
     "data": {
      "text/plain": [
       "Pipeline(steps=[('features',\n",
       "                 FeatureUnion(transformer_list=[('Month',\n",
       "                                                 Pipeline(steps=[('selector',\n",
       "                                                                  FeatureSelector(column='Month')),\n",
       "                                                                 ('ohe',\n",
       "                                                                  OHEEncoder(key='Month'))])),\n",
       "                                                ('OperatingSystems',\n",
       "                                                 Pipeline(steps=[('selector',\n",
       "                                                                  FeatureSelector(column='OperatingSystems')),\n",
       "                                                                 ('ohe',\n",
       "                                                                  OHEEncoder(key='OperatingSystems'))])),\n",
       "                                                ('Browser',\n",
       "                                                 Pipeline(steps=[('selector',\n",
       "                                                                  FeatureSe...\n",
       "                                                 Pipeline(steps=[('selector',\n",
       "                                                                  NumberSelector(key='BounceRates'))])),\n",
       "                                                ('ExitRates',\n",
       "                                                 Pipeline(steps=[('selector',\n",
       "                                                                  NumberSelector(key='ExitRates'))])),\n",
       "                                                ('PageValues',\n",
       "                                                 Pipeline(steps=[('selector',\n",
       "                                                                  NumberSelector(key='PageValues'))])),\n",
       "                                                ('SpecialDay',\n",
       "                                                 Pipeline(steps=[('selector',\n",
       "                                                                  NumberSelector(key='SpecialDay'))]))])),\n",
       "                ('classifier', GradientBoostingClassifier(random_state=42))])"
      ]
     },
     "execution_count": 692,
     "metadata": {},
     "output_type": "execute_result"
    }
   ],
   "source": [
    "#обучаем пайплайн\n",
    "pipeline.fit(X_train, y_train)"
   ]
  },
  {
   "cell_type": "code",
   "execution_count": 693,
   "metadata": {},
   "outputs": [
    {
     "data": {
      "text/plain": [
       "array([0.12024288, 0.3125914 , 0.64039381, 0.61526673, 0.31942637,\n",
       "       0.01281751, 0.00934008, 0.01087183, 0.52131734, 0.02020328])"
      ]
     },
     "execution_count": 693,
     "metadata": {},
     "output_type": "execute_result"
    }
   ],
   "source": [
    "#построим предсказания для тестовой выборки\n",
    "preds = pipeline.predict_proba(X_test)[:, 1]\n",
    "preds[:10]"
   ]
  },
  {
   "cell_type": "markdown",
   "metadata": {},
   "source": [
    "Найдем оптимальный порог, при котором достигается максимальное значение метрики `F1-score`."
   ]
  },
  {
   "cell_type": "code",
   "execution_count": 694,
   "metadata": {},
   "outputs": [
    {
     "name": "stdout",
     "output_type": "stream",
     "text": [
      "Best Threshold=0.309464, F-Score=0.682, Precision=0.638, Recall=0.732\n"
     ]
    }
   ],
   "source": [
    "precision, recall, thresholds = precision_recall_curve(y_test, preds)\n",
    "\n",
    "fscore = (2 * precision * recall) / (precision + recall)\n",
    "# locate the index of the largest f score\n",
    "ix = np.argmax(fscore)\n",
    "print('Best Threshold=%f, F-Score=%.3f, Precision=%.3f, Recall=%.3f' % (thresholds[ix], \n",
    "                                                                        fscore[ix],\n",
    "                                                                        precision[ix],\n",
    "                                                                        recall[ix]))"
   ]
  },
  {
   "cell_type": "code",
   "execution_count": 695,
   "metadata": {},
   "outputs": [
    {
     "name": "stdout",
     "output_type": "stream",
     "text": [
      "ROC-AUC score=0.931\n"
     ]
    }
   ],
   "source": [
    "print(f'ROC-AUC score={roc_auc_score(y_test, preds):.3f}')"
   ]
  },
  {
   "cell_type": "markdown",
   "metadata": {},
   "source": [
    "4. далее разделить ваш набор данных на два множества: P (positives) и U (unlabeled). Причем брать нужно не все положительные (класс 1) примеры, а только лишь часть.\n",
    "5. применить random negative sampling для построения классификатора в новых условиях"
   ]
  },
  {
   "cell_type": "markdown",
   "metadata": {},
   "source": [
    "Реализуем функцию, которая будет выбирать фиксированную долю _k_ наблюдений из положительного класса и переразмечать оставшуюся выборку. Затем будет производиться семплирование из нее, таким образом на выходе получаем обучающий и тестовый датасеты для обучения lookalike модели."
   ]
  },
  {
   "cell_type": "code",
   "execution_count": 696,
   "metadata": {},
   "outputs": [],
   "source": [
    "def create_datasets(df, k):\n",
    "    Z = df.copy()\n",
    "    # Индексы наблюдений с положительным классом\n",
    "    pos_ind = list(Z[Z['Revenue'] == 1].index)\n",
    "    # Перемешаем их для случайного семплирования\n",
    "    np.random.shuffle(pos_ind)\n",
    "    pos_sample_len = int(np.ceil(k * len(pos_ind)))\n",
    "    pos_sample = pos_ind[:pos_sample_len]\n",
    "\n",
    "    print(f'Используем {pos_sample_len}/{len(pos_ind)} положительных наблюдений,'\n",
    "          f' оставшуюся часть выборки делаем неразмеченной.')\n",
    "    \n",
    "    Z['class'] = -1\n",
    "    Z.loc[pos_sample,'class'] = 1\n",
    "    \n",
    "    # Засемплируем выборку перед созданием обучающего и тестового датасетов\n",
    "    Z = Z.sample(frac=1)\n",
    "    new_pos_sample_len = len(Z[Z['class']==1])\n",
    "    # Семплируем неразмеченные наблюдения для создания обучающей выборки\n",
    "    neg_sample = Z[Z['class']==-1][:new_pos_sample_len]\n",
    "    pos_sample = Z[Z['class']==1]\n",
    "    # Обучающая выборка из положительных и неразмеченных наблюдений\n",
    "    Z_train = pd.concat([neg_sample, pos_sample]).sample(frac=1)\n",
    "    # Тестовая выборка из оставшихся наблюдений\n",
    "    Z_test = Z[Z['class']==-1][new_pos_sample_len:]\n",
    "    \n",
    "    print(f'Объем обучающей выборки - {Z_train.shape[0]} наблюдений. '\n",
    "          f'Объем тестовой выборки - {Z_test.shape[0]} наблюдений.')\n",
    "    \n",
    "    return Z_train, Z_test"
   ]
  },
  {
   "cell_type": "code",
   "execution_count": 697,
   "metadata": {},
   "outputs": [
    {
     "name": "stdout",
     "output_type": "stream",
     "text": [
      "Используем 477/1908 положительных наблюдений, оставшуюся часть выборки делаем неразмеченной.\n",
      "Объем обучающей выборки - 954 наблюдений. Объем тестовой выборки - 11376 наблюдений.\n"
     ]
    }
   ],
   "source": [
    "Z_train, Z_test = create_datasets(df, k=0.25)"
   ]
  },
  {
   "cell_type": "code",
   "execution_count": 698,
   "metadata": {},
   "outputs": [],
   "source": [
    "yy_train = Z_train['Revenue']\n",
    "yy_test = Z_test['Revenue']"
   ]
  },
  {
   "cell_type": "code",
   "execution_count": 699,
   "metadata": {},
   "outputs": [
    {
     "data": {
      "text/html": [
       "<div>\n",
       "<style scoped>\n",
       "    .dataframe tbody tr th:only-of-type {\n",
       "        vertical-align: middle;\n",
       "    }\n",
       "\n",
       "    .dataframe tbody tr th {\n",
       "        vertical-align: top;\n",
       "    }\n",
       "\n",
       "    .dataframe thead th {\n",
       "        text-align: right;\n",
       "    }\n",
       "</style>\n",
       "<table border=\"1\" class=\"dataframe\">\n",
       "  <thead>\n",
       "    <tr style=\"text-align: right;\">\n",
       "      <th></th>\n",
       "      <th>Administrative</th>\n",
       "      <th>Administrative_Duration</th>\n",
       "      <th>Informational</th>\n",
       "      <th>Informational_Duration</th>\n",
       "      <th>ProductRelated</th>\n",
       "      <th>ProductRelated_Duration</th>\n",
       "      <th>BounceRates</th>\n",
       "      <th>ExitRates</th>\n",
       "      <th>PageValues</th>\n",
       "      <th>SpecialDay</th>\n",
       "      <th>Month</th>\n",
       "      <th>OperatingSystems</th>\n",
       "      <th>Browser</th>\n",
       "      <th>Region</th>\n",
       "      <th>TrafficType</th>\n",
       "      <th>VisitorType</th>\n",
       "      <th>Weekend</th>\n",
       "      <th>Revenue</th>\n",
       "      <th>class</th>\n",
       "    </tr>\n",
       "  </thead>\n",
       "  <tbody>\n",
       "    <tr>\n",
       "      <th>11215</th>\n",
       "      <td>2</td>\n",
       "      <td>17.333333</td>\n",
       "      <td>0</td>\n",
       "      <td>0.0</td>\n",
       "      <td>89</td>\n",
       "      <td>3401.300000</td>\n",
       "      <td>0.002222</td>\n",
       "      <td>0.014836</td>\n",
       "      <td>5.133912</td>\n",
       "      <td>0.0</td>\n",
       "      <td>Nov</td>\n",
       "      <td>2</td>\n",
       "      <td>2</td>\n",
       "      <td>1</td>\n",
       "      <td>2</td>\n",
       "      <td>Returning_Visitor</td>\n",
       "      <td>True</td>\n",
       "      <td>0</td>\n",
       "      <td>-1</td>\n",
       "    </tr>\n",
       "    <tr>\n",
       "      <th>6625</th>\n",
       "      <td>7</td>\n",
       "      <td>168.700000</td>\n",
       "      <td>0</td>\n",
       "      <td>0.0</td>\n",
       "      <td>34</td>\n",
       "      <td>1062.704762</td>\n",
       "      <td>0.005405</td>\n",
       "      <td>0.013720</td>\n",
       "      <td>0.000000</td>\n",
       "      <td>0.0</td>\n",
       "      <td>Sep</td>\n",
       "      <td>2</td>\n",
       "      <td>2</td>\n",
       "      <td>3</td>\n",
       "      <td>2</td>\n",
       "      <td>New_Visitor</td>\n",
       "      <td>False</td>\n",
       "      <td>0</td>\n",
       "      <td>-1</td>\n",
       "    </tr>\n",
       "    <tr>\n",
       "      <th>12081</th>\n",
       "      <td>0</td>\n",
       "      <td>0.000000</td>\n",
       "      <td>0</td>\n",
       "      <td>0.0</td>\n",
       "      <td>1</td>\n",
       "      <td>0.000000</td>\n",
       "      <td>0.200000</td>\n",
       "      <td>0.200000</td>\n",
       "      <td>0.000000</td>\n",
       "      <td>0.0</td>\n",
       "      <td>Nov</td>\n",
       "      <td>4</td>\n",
       "      <td>2</td>\n",
       "      <td>1</td>\n",
       "      <td>8</td>\n",
       "      <td>New_Visitor</td>\n",
       "      <td>False</td>\n",
       "      <td>0</td>\n",
       "      <td>-1</td>\n",
       "    </tr>\n",
       "    <tr>\n",
       "      <th>10757</th>\n",
       "      <td>0</td>\n",
       "      <td>0.000000</td>\n",
       "      <td>0</td>\n",
       "      <td>0.0</td>\n",
       "      <td>9</td>\n",
       "      <td>87.916667</td>\n",
       "      <td>0.000000</td>\n",
       "      <td>0.003175</td>\n",
       "      <td>0.000000</td>\n",
       "      <td>0.0</td>\n",
       "      <td>Nov</td>\n",
       "      <td>8</td>\n",
       "      <td>2</td>\n",
       "      <td>5</td>\n",
       "      <td>1</td>\n",
       "      <td>Returning_Visitor</td>\n",
       "      <td>True</td>\n",
       "      <td>0</td>\n",
       "      <td>-1</td>\n",
       "    </tr>\n",
       "    <tr>\n",
       "      <th>8727</th>\n",
       "      <td>1</td>\n",
       "      <td>5.000000</td>\n",
       "      <td>0</td>\n",
       "      <td>0.0</td>\n",
       "      <td>47</td>\n",
       "      <td>1480.233333</td>\n",
       "      <td>0.010417</td>\n",
       "      <td>0.027824</td>\n",
       "      <td>15.156438</td>\n",
       "      <td>0.0</td>\n",
       "      <td>Nov</td>\n",
       "      <td>2</td>\n",
       "      <td>2</td>\n",
       "      <td>1</td>\n",
       "      <td>3</td>\n",
       "      <td>Returning_Visitor</td>\n",
       "      <td>True</td>\n",
       "      <td>1</td>\n",
       "      <td>1</td>\n",
       "    </tr>\n",
       "  </tbody>\n",
       "</table>\n",
       "</div>"
      ],
      "text/plain": [
       "       Administrative  Administrative_Duration  Informational  \\\n",
       "11215               2                17.333333              0   \n",
       "6625                7               168.700000              0   \n",
       "12081               0                 0.000000              0   \n",
       "10757               0                 0.000000              0   \n",
       "8727                1                 5.000000              0   \n",
       "\n",
       "       Informational_Duration  ProductRelated  ProductRelated_Duration  \\\n",
       "11215                     0.0              89              3401.300000   \n",
       "6625                      0.0              34              1062.704762   \n",
       "12081                     0.0               1                 0.000000   \n",
       "10757                     0.0               9                87.916667   \n",
       "8727                      0.0              47              1480.233333   \n",
       "\n",
       "       BounceRates  ExitRates  PageValues  SpecialDay Month  OperatingSystems  \\\n",
       "11215     0.002222   0.014836    5.133912         0.0   Nov                 2   \n",
       "6625      0.005405   0.013720    0.000000         0.0   Sep                 2   \n",
       "12081     0.200000   0.200000    0.000000         0.0   Nov                 4   \n",
       "10757     0.000000   0.003175    0.000000         0.0   Nov                 8   \n",
       "8727      0.010417   0.027824   15.156438         0.0   Nov                 2   \n",
       "\n",
       "       Browser  Region  TrafficType        VisitorType  Weekend  Revenue  \\\n",
       "11215        2       1            2  Returning_Visitor     True        0   \n",
       "6625         2       3            2        New_Visitor    False        0   \n",
       "12081        2       1            8        New_Visitor    False        0   \n",
       "10757        2       5            1  Returning_Visitor     True        0   \n",
       "8727         2       1            3  Returning_Visitor     True        1   \n",
       "\n",
       "       class  \n",
       "11215     -1  \n",
       "6625      -1  \n",
       "12081     -1  \n",
       "10757     -1  \n",
       "8727       1  "
      ]
     },
     "execution_count": 699,
     "metadata": {},
     "output_type": "execute_result"
    }
   ],
   "source": [
    "Z_train.head()"
   ]
  },
  {
   "cell_type": "code",
   "execution_count": 700,
   "metadata": {},
   "outputs": [
    {
     "data": {
      "text/plain": [
       "Pipeline(steps=[('features',\n",
       "                 FeatureUnion(transformer_list=[('Month',\n",
       "                                                 Pipeline(steps=[('selector',\n",
       "                                                                  FeatureSelector(column='Month')),\n",
       "                                                                 ('ohe',\n",
       "                                                                  OHEEncoder(key='Month'))])),\n",
       "                                                ('OperatingSystems',\n",
       "                                                 Pipeline(steps=[('selector',\n",
       "                                                                  FeatureSelector(column='OperatingSystems')),\n",
       "                                                                 ('ohe',\n",
       "                                                                  OHEEncoder(key='OperatingSystems'))])),\n",
       "                                                ('Browser',\n",
       "                                                 Pipeline(steps=[('selector',\n",
       "                                                                  FeatureSe...\n",
       "                                                 Pipeline(steps=[('selector',\n",
       "                                                                  NumberSelector(key='BounceRates'))])),\n",
       "                                                ('ExitRates',\n",
       "                                                 Pipeline(steps=[('selector',\n",
       "                                                                  NumberSelector(key='ExitRates'))])),\n",
       "                                                ('PageValues',\n",
       "                                                 Pipeline(steps=[('selector',\n",
       "                                                                  NumberSelector(key='PageValues'))])),\n",
       "                                                ('SpecialDay',\n",
       "                                                 Pipeline(steps=[('selector',\n",
       "                                                                  NumberSelector(key='SpecialDay'))]))])),\n",
       "                ('classifier', GradientBoostingClassifier(random_state=42))])"
      ]
     },
     "execution_count": 700,
     "metadata": {},
     "output_type": "execute_result"
    }
   ],
   "source": [
    "pipeline.fit(Z_train, yy_train)"
   ]
  },
  {
   "cell_type": "code",
   "execution_count": 701,
   "metadata": {},
   "outputs": [
    {
     "data": {
      "text/plain": [
       "array([0.1352714 , 0.01467536, 0.08250655, 0.54775675, 0.0437458 ,\n",
       "       0.03967769, 0.97264429, 0.2875926 , 0.30139959, 0.10084147])"
      ]
     },
     "execution_count": 701,
     "metadata": {},
     "output_type": "execute_result"
    }
   ],
   "source": [
    "#построим предсказания для тестовой выборки\n",
    "new_preds = pipeline.predict_proba(Z_test)[:, 1]\n",
    "new_preds[:10]"
   ]
  },
  {
   "cell_type": "code",
   "execution_count": 702,
   "metadata": {},
   "outputs": [
    {
     "name": "stdout",
     "output_type": "stream",
     "text": [
      "Best Threshold=0.804652, F-Score=0.631, Precision=0.563, Recall=0.718\n"
     ]
    }
   ],
   "source": [
    "new_precision, new_recall, new_thresholds = precision_recall_curve(yy_test, new_preds)\n",
    "\n",
    "new_fscore = (2 * new_precision * new_recall) / (new_precision + new_recall)\n",
    "# locate the index of the largest f score\n",
    "new_ix = np.argmax(new_fscore)\n",
    "print('Best Threshold=%f, F-Score=%.3f, Precision=%.3f, Recall=%.3f' % (new_thresholds[new_ix], \n",
    "                                                                        new_fscore[new_ix],\n",
    "                                                                        new_precision[new_ix],\n",
    "                                                                        new_recall[new_ix]))"
   ]
  },
  {
   "cell_type": "code",
   "execution_count": 703,
   "metadata": {},
   "outputs": [
    {
     "name": "stdout",
     "output_type": "stream",
     "text": [
      "ROC-AUC score=0.922\n"
     ]
    }
   ],
   "source": [
    "print(f'ROC-AUC score={roc_auc_score(yy_test, new_preds):.3f}')"
   ]
  },
  {
   "cell_type": "markdown",
   "metadata": {},
   "source": [
    "6. сравнить качество с решением из пункта 4 (построить отчет - таблицу метрик)"
   ]
  },
  {
   "cell_type": "code",
   "execution_count": 704,
   "metadata": {},
   "outputs": [
    {
     "data": {
      "text/html": [
       "<div>\n",
       "<style scoped>\n",
       "    .dataframe tbody tr th:only-of-type {\n",
       "        vertical-align: middle;\n",
       "    }\n",
       "\n",
       "    .dataframe tbody tr th {\n",
       "        vertical-align: top;\n",
       "    }\n",
       "\n",
       "    .dataframe thead th {\n",
       "        text-align: right;\n",
       "    }\n",
       "</style>\n",
       "<table border=\"1\" class=\"dataframe\">\n",
       "  <thead>\n",
       "    <tr style=\"text-align: right;\">\n",
       "      <th></th>\n",
       "      <th>method</th>\n",
       "      <th>precision</th>\n",
       "      <th>recall</th>\n",
       "      <th>fscore</th>\n",
       "      <th>roc_auc</th>\n",
       "    </tr>\n",
       "  </thead>\n",
       "  <tbody>\n",
       "    <tr>\n",
       "      <th>0</th>\n",
       "      <td>GradientBoosting</td>\n",
       "      <td>0.638146</td>\n",
       "      <td>0.732106</td>\n",
       "      <td>0.681905</td>\n",
       "      <td>0.931355</td>\n",
       "    </tr>\n",
       "    <tr>\n",
       "      <th>1</th>\n",
       "      <td>RandomNegativeSampling</td>\n",
       "      <td>0.563492</td>\n",
       "      <td>0.717690</td>\n",
       "      <td>0.631312</td>\n",
       "      <td>0.922342</td>\n",
       "    </tr>\n",
       "  </tbody>\n",
       "</table>\n",
       "</div>"
      ],
      "text/plain": [
       "                   method  precision    recall    fscore   roc_auc\n",
       "0        GradientBoosting   0.638146  0.732106  0.681905  0.931355\n",
       "1  RandomNegativeSampling   0.563492  0.717690  0.631312  0.922342"
      ]
     },
     "execution_count": 704,
     "metadata": {},
     "output_type": "execute_result"
    }
   ],
   "source": [
    "metrics = pd.DataFrame([['GradientBoosting', precision[ix], recall[ix], fscore[ix], \n",
    "                         roc_auc_score(y_test, preds)], \n",
    "                        ['RandomNegativeSampling', new_precision[new_ix], new_recall[new_ix], \n",
    "                         new_fscore[new_ix], roc_auc_score(yy_test, new_preds)]], \n",
    "                       columns=['method', 'precision', 'recall', 'fscore', 'roc_auc'])\n",
    "metrics"
   ]
  },
  {
   "cell_type": "markdown",
   "metadata": {},
   "source": [
    "Все метрики оказались хуже, что вполне ожидаемо для данного подхода, так как обучающая выборка значительно меньше."
   ]
  },
  {
   "cell_type": "markdown",
   "metadata": {},
   "source": [
    "7. поэкспериментировать с долей P на шаге 5 (как будет меняться качество модели при уменьшении/увеличении размера P)"
   ]
  },
  {
   "cell_type": "markdown",
   "metadata": {},
   "source": [
    "##### доля положительных наблюдений - 10%"
   ]
  },
  {
   "cell_type": "code",
   "execution_count": 705,
   "metadata": {},
   "outputs": [
    {
     "name": "stdout",
     "output_type": "stream",
     "text": [
      "Используем 191/1908 положительных наблюдений, оставшуюся часть выборки делаем неразмеченной.\n",
      "Объем обучающей выборки - 382 наблюдений. Объем тестовой выборки - 11948 наблюдений.\n"
     ]
    },
    {
     "data": {
      "text/plain": [
       "Pipeline(steps=[('features',\n",
       "                 FeatureUnion(transformer_list=[('Month',\n",
       "                                                 Pipeline(steps=[('selector',\n",
       "                                                                  FeatureSelector(column='Month')),\n",
       "                                                                 ('ohe',\n",
       "                                                                  OHEEncoder(key='Month'))])),\n",
       "                                                ('OperatingSystems',\n",
       "                                                 Pipeline(steps=[('selector',\n",
       "                                                                  FeatureSelector(column='OperatingSystems')),\n",
       "                                                                 ('ohe',\n",
       "                                                                  OHEEncoder(key='OperatingSystems'))])),\n",
       "                                                ('Browser',\n",
       "                                                 Pipeline(steps=[('selector',\n",
       "                                                                  FeatureSe...\n",
       "                                                 Pipeline(steps=[('selector',\n",
       "                                                                  NumberSelector(key='BounceRates'))])),\n",
       "                                                ('ExitRates',\n",
       "                                                 Pipeline(steps=[('selector',\n",
       "                                                                  NumberSelector(key='ExitRates'))])),\n",
       "                                                ('PageValues',\n",
       "                                                 Pipeline(steps=[('selector',\n",
       "                                                                  NumberSelector(key='PageValues'))])),\n",
       "                                                ('SpecialDay',\n",
       "                                                 Pipeline(steps=[('selector',\n",
       "                                                                  NumberSelector(key='SpecialDay'))]))])),\n",
       "                ('classifier', GradientBoostingClassifier(random_state=42))])"
      ]
     },
     "execution_count": 705,
     "metadata": {},
     "output_type": "execute_result"
    }
   ],
   "source": [
    "Z_train_10, Z_test_10 = create_datasets(df, k=0.1)\n",
    "yy_train_10 = Z_train_10['Revenue']\n",
    "yy_test_10 = Z_test_10['Revenue']\n",
    "# обучаем пайплайн\n",
    "pipeline.fit(Z_train_10, yy_train_10)"
   ]
  },
  {
   "cell_type": "code",
   "execution_count": 706,
   "metadata": {},
   "outputs": [
    {
     "data": {
      "text/html": [
       "<div>\n",
       "<style scoped>\n",
       "    .dataframe tbody tr th:only-of-type {\n",
       "        vertical-align: middle;\n",
       "    }\n",
       "\n",
       "    .dataframe tbody tr th {\n",
       "        vertical-align: top;\n",
       "    }\n",
       "\n",
       "    .dataframe thead th {\n",
       "        text-align: right;\n",
       "    }\n",
       "</style>\n",
       "<table border=\"1\" class=\"dataframe\">\n",
       "  <thead>\n",
       "    <tr style=\"text-align: right;\">\n",
       "      <th></th>\n",
       "      <th>Administrative</th>\n",
       "      <th>Administrative_Duration</th>\n",
       "      <th>Informational</th>\n",
       "      <th>Informational_Duration</th>\n",
       "      <th>ProductRelated</th>\n",
       "      <th>ProductRelated_Duration</th>\n",
       "      <th>BounceRates</th>\n",
       "      <th>ExitRates</th>\n",
       "      <th>PageValues</th>\n",
       "      <th>SpecialDay</th>\n",
       "      <th>Month</th>\n",
       "      <th>OperatingSystems</th>\n",
       "      <th>Browser</th>\n",
       "      <th>Region</th>\n",
       "      <th>TrafficType</th>\n",
       "      <th>VisitorType</th>\n",
       "      <th>Weekend</th>\n",
       "      <th>Revenue</th>\n",
       "      <th>class</th>\n",
       "    </tr>\n",
       "  </thead>\n",
       "  <tbody>\n",
       "    <tr>\n",
       "      <th>9740</th>\n",
       "      <td>2</td>\n",
       "      <td>136.500000</td>\n",
       "      <td>0</td>\n",
       "      <td>0.000000</td>\n",
       "      <td>8</td>\n",
       "      <td>1261.500000</td>\n",
       "      <td>0.000000</td>\n",
       "      <td>0.010000</td>\n",
       "      <td>0.000000</td>\n",
       "      <td>0.0</td>\n",
       "      <td>Dec</td>\n",
       "      <td>8</td>\n",
       "      <td>1</td>\n",
       "      <td>3</td>\n",
       "      <td>2</td>\n",
       "      <td>Returning_Visitor</td>\n",
       "      <td>True</td>\n",
       "      <td>0</td>\n",
       "      <td>-1</td>\n",
       "    </tr>\n",
       "    <tr>\n",
       "      <th>3037</th>\n",
       "      <td>3</td>\n",
       "      <td>40.000000</td>\n",
       "      <td>0</td>\n",
       "      <td>0.000000</td>\n",
       "      <td>19</td>\n",
       "      <td>1051.500000</td>\n",
       "      <td>0.008333</td>\n",
       "      <td>0.030556</td>\n",
       "      <td>12.180000</td>\n",
       "      <td>0.6</td>\n",
       "      <td>May</td>\n",
       "      <td>1</td>\n",
       "      <td>1</td>\n",
       "      <td>4</td>\n",
       "      <td>3</td>\n",
       "      <td>Returning_Visitor</td>\n",
       "      <td>False</td>\n",
       "      <td>1</td>\n",
       "      <td>1</td>\n",
       "    </tr>\n",
       "    <tr>\n",
       "      <th>8833</th>\n",
       "      <td>15</td>\n",
       "      <td>543.354907</td>\n",
       "      <td>7</td>\n",
       "      <td>243.283333</td>\n",
       "      <td>169</td>\n",
       "      <td>6920.973243</td>\n",
       "      <td>0.005269</td>\n",
       "      <td>0.016770</td>\n",
       "      <td>0.742943</td>\n",
       "      <td>0.0</td>\n",
       "      <td>Nov</td>\n",
       "      <td>1</td>\n",
       "      <td>1</td>\n",
       "      <td>3</td>\n",
       "      <td>2</td>\n",
       "      <td>Returning_Visitor</td>\n",
       "      <td>True</td>\n",
       "      <td>0</td>\n",
       "      <td>-1</td>\n",
       "    </tr>\n",
       "    <tr>\n",
       "      <th>2765</th>\n",
       "      <td>6</td>\n",
       "      <td>86.500000</td>\n",
       "      <td>1</td>\n",
       "      <td>2.000000</td>\n",
       "      <td>39</td>\n",
       "      <td>1050.708333</td>\n",
       "      <td>0.021163</td>\n",
       "      <td>0.018042</td>\n",
       "      <td>13.402983</td>\n",
       "      <td>0.0</td>\n",
       "      <td>May</td>\n",
       "      <td>3</td>\n",
       "      <td>2</td>\n",
       "      <td>6</td>\n",
       "      <td>3</td>\n",
       "      <td>Returning_Visitor</td>\n",
       "      <td>False</td>\n",
       "      <td>1</td>\n",
       "      <td>1</td>\n",
       "    </tr>\n",
       "    <tr>\n",
       "      <th>8293</th>\n",
       "      <td>0</td>\n",
       "      <td>0.000000</td>\n",
       "      <td>0</td>\n",
       "      <td>0.000000</td>\n",
       "      <td>53</td>\n",
       "      <td>2052.125000</td>\n",
       "      <td>0.000000</td>\n",
       "      <td>0.003922</td>\n",
       "      <td>52.498620</td>\n",
       "      <td>0.0</td>\n",
       "      <td>Nov</td>\n",
       "      <td>2</td>\n",
       "      <td>4</td>\n",
       "      <td>2</td>\n",
       "      <td>2</td>\n",
       "      <td>New_Visitor</td>\n",
       "      <td>True</td>\n",
       "      <td>1</td>\n",
       "      <td>1</td>\n",
       "    </tr>\n",
       "  </tbody>\n",
       "</table>\n",
       "</div>"
      ],
      "text/plain": [
       "      Administrative  Administrative_Duration  Informational  \\\n",
       "9740               2               136.500000              0   \n",
       "3037               3                40.000000              0   \n",
       "8833              15               543.354907              7   \n",
       "2765               6                86.500000              1   \n",
       "8293               0                 0.000000              0   \n",
       "\n",
       "      Informational_Duration  ProductRelated  ProductRelated_Duration  \\\n",
       "9740                0.000000               8              1261.500000   \n",
       "3037                0.000000              19              1051.500000   \n",
       "8833              243.283333             169              6920.973243   \n",
       "2765                2.000000              39              1050.708333   \n",
       "8293                0.000000              53              2052.125000   \n",
       "\n",
       "      BounceRates  ExitRates  PageValues  SpecialDay Month  OperatingSystems  \\\n",
       "9740     0.000000   0.010000    0.000000         0.0   Dec                 8   \n",
       "3037     0.008333   0.030556   12.180000         0.6   May                 1   \n",
       "8833     0.005269   0.016770    0.742943         0.0   Nov                 1   \n",
       "2765     0.021163   0.018042   13.402983         0.0   May                 3   \n",
       "8293     0.000000   0.003922   52.498620         0.0   Nov                 2   \n",
       "\n",
       "      Browser  Region  TrafficType        VisitorType  Weekend  Revenue  class  \n",
       "9740        1       3            2  Returning_Visitor     True        0     -1  \n",
       "3037        1       4            3  Returning_Visitor    False        1      1  \n",
       "8833        1       3            2  Returning_Visitor     True        0     -1  \n",
       "2765        2       6            3  Returning_Visitor    False        1      1  \n",
       "8293        4       2            2        New_Visitor     True        1      1  "
      ]
     },
     "execution_count": 706,
     "metadata": {},
     "output_type": "execute_result"
    }
   ],
   "source": [
    "Z_train_10.head()"
   ]
  },
  {
   "cell_type": "code",
   "execution_count": 707,
   "metadata": {},
   "outputs": [
    {
     "name": "stdout",
     "output_type": "stream",
     "text": [
      "Best Threshold=0.779968, F-Score=0.618, Precision=0.537, Recall=0.728\n",
      "ROC-AUC score=0.898\n"
     ]
    }
   ],
   "source": [
    "new_preds_10 = pipeline.predict_proba(Z_test_10)[:, 1]\n",
    "new_precision_10, new_recall_10, new_thresholds_10 = precision_recall_curve(yy_test_10, new_preds_10)\n",
    "\n",
    "new_fscore_10 = (2 * new_precision_10 * new_recall_10) / (new_precision_10 + new_recall_10)\n",
    "# locate the index of the largest f score\n",
    "new_ix_10 = np.argmax(new_fscore_10)\n",
    "print('Best Threshold=%f, F-Score=%.3f, Precision=%.3f, Recall=%.3f' % (new_thresholds_10[new_ix_10], \n",
    "                                                                        new_fscore_10[new_ix_10],\n",
    "                                                                        new_precision_10[new_ix_10],\n",
    "                                                                        new_recall_10[new_ix_10]))\n",
    "print(f'ROC-AUC score={roc_auc_score(yy_test_10, new_preds_10):.3f}')"
   ]
  },
  {
   "cell_type": "markdown",
   "metadata": {},
   "source": [
    "##### доля положительных наблюдений - 40%"
   ]
  },
  {
   "cell_type": "code",
   "execution_count": 708,
   "metadata": {},
   "outputs": [
    {
     "name": "stdout",
     "output_type": "stream",
     "text": [
      "Используем 764/1908 положительных наблюдений, оставшуюся часть выборки делаем неразмеченной.\n",
      "Объем обучающей выборки - 1528 наблюдений. Объем тестовой выборки - 10802 наблюдений.\n"
     ]
    },
    {
     "data": {
      "text/plain": [
       "Pipeline(steps=[('features',\n",
       "                 FeatureUnion(transformer_list=[('Month',\n",
       "                                                 Pipeline(steps=[('selector',\n",
       "                                                                  FeatureSelector(column='Month')),\n",
       "                                                                 ('ohe',\n",
       "                                                                  OHEEncoder(key='Month'))])),\n",
       "                                                ('OperatingSystems',\n",
       "                                                 Pipeline(steps=[('selector',\n",
       "                                                                  FeatureSelector(column='OperatingSystems')),\n",
       "                                                                 ('ohe',\n",
       "                                                                  OHEEncoder(key='OperatingSystems'))])),\n",
       "                                                ('Browser',\n",
       "                                                 Pipeline(steps=[('selector',\n",
       "                                                                  FeatureSe...\n",
       "                                                 Pipeline(steps=[('selector',\n",
       "                                                                  NumberSelector(key='BounceRates'))])),\n",
       "                                                ('ExitRates',\n",
       "                                                 Pipeline(steps=[('selector',\n",
       "                                                                  NumberSelector(key='ExitRates'))])),\n",
       "                                                ('PageValues',\n",
       "                                                 Pipeline(steps=[('selector',\n",
       "                                                                  NumberSelector(key='PageValues'))])),\n",
       "                                                ('SpecialDay',\n",
       "                                                 Pipeline(steps=[('selector',\n",
       "                                                                  NumberSelector(key='SpecialDay'))]))])),\n",
       "                ('classifier', GradientBoostingClassifier(random_state=42))])"
      ]
     },
     "execution_count": 708,
     "metadata": {},
     "output_type": "execute_result"
    }
   ],
   "source": [
    "Z_train_40, Z_test_40 = create_datasets(df, k=0.4)\n",
    "yy_train_40 = Z_train_40['Revenue']\n",
    "yy_test_40 = Z_test_40['Revenue']\n",
    "# обучаем пайплайн\n",
    "pipeline.fit(Z_train_40, yy_train_40)"
   ]
  },
  {
   "cell_type": "code",
   "execution_count": 709,
   "metadata": {},
   "outputs": [
    {
     "data": {
      "text/html": [
       "<div>\n",
       "<style scoped>\n",
       "    .dataframe tbody tr th:only-of-type {\n",
       "        vertical-align: middle;\n",
       "    }\n",
       "\n",
       "    .dataframe tbody tr th {\n",
       "        vertical-align: top;\n",
       "    }\n",
       "\n",
       "    .dataframe thead th {\n",
       "        text-align: right;\n",
       "    }\n",
       "</style>\n",
       "<table border=\"1\" class=\"dataframe\">\n",
       "  <thead>\n",
       "    <tr style=\"text-align: right;\">\n",
       "      <th></th>\n",
       "      <th>Administrative</th>\n",
       "      <th>Administrative_Duration</th>\n",
       "      <th>Informational</th>\n",
       "      <th>Informational_Duration</th>\n",
       "      <th>ProductRelated</th>\n",
       "      <th>ProductRelated_Duration</th>\n",
       "      <th>BounceRates</th>\n",
       "      <th>ExitRates</th>\n",
       "      <th>PageValues</th>\n",
       "      <th>SpecialDay</th>\n",
       "      <th>Month</th>\n",
       "      <th>OperatingSystems</th>\n",
       "      <th>Browser</th>\n",
       "      <th>Region</th>\n",
       "      <th>TrafficType</th>\n",
       "      <th>VisitorType</th>\n",
       "      <th>Weekend</th>\n",
       "      <th>Revenue</th>\n",
       "      <th>class</th>\n",
       "    </tr>\n",
       "  </thead>\n",
       "  <tbody>\n",
       "    <tr>\n",
       "      <th>601</th>\n",
       "      <td>6</td>\n",
       "      <td>99.605882</td>\n",
       "      <td>0</td>\n",
       "      <td>0.0</td>\n",
       "      <td>83</td>\n",
       "      <td>2585.618350</td>\n",
       "      <td>0.000000</td>\n",
       "      <td>0.007619</td>\n",
       "      <td>6.871309</td>\n",
       "      <td>0.0</td>\n",
       "      <td>Mar</td>\n",
       "      <td>2</td>\n",
       "      <td>2</td>\n",
       "      <td>2</td>\n",
       "      <td>2</td>\n",
       "      <td>Returning_Visitor</td>\n",
       "      <td>False</td>\n",
       "      <td>1</td>\n",
       "      <td>1</td>\n",
       "    </tr>\n",
       "    <tr>\n",
       "      <th>8739</th>\n",
       "      <td>3</td>\n",
       "      <td>135.500000</td>\n",
       "      <td>0</td>\n",
       "      <td>0.0</td>\n",
       "      <td>30</td>\n",
       "      <td>2040.166667</td>\n",
       "      <td>0.000000</td>\n",
       "      <td>0.022727</td>\n",
       "      <td>4.350514</td>\n",
       "      <td>0.0</td>\n",
       "      <td>Dec</td>\n",
       "      <td>2</td>\n",
       "      <td>2</td>\n",
       "      <td>8</td>\n",
       "      <td>2</td>\n",
       "      <td>Returning_Visitor</td>\n",
       "      <td>False</td>\n",
       "      <td>1</td>\n",
       "      <td>1</td>\n",
       "    </tr>\n",
       "    <tr>\n",
       "      <th>5821</th>\n",
       "      <td>0</td>\n",
       "      <td>0.000000</td>\n",
       "      <td>0</td>\n",
       "      <td>0.0</td>\n",
       "      <td>29</td>\n",
       "      <td>1970.000000</td>\n",
       "      <td>0.000000</td>\n",
       "      <td>0.000000</td>\n",
       "      <td>100.725605</td>\n",
       "      <td>0.0</td>\n",
       "      <td>Oct</td>\n",
       "      <td>4</td>\n",
       "      <td>1</td>\n",
       "      <td>5</td>\n",
       "      <td>2</td>\n",
       "      <td>Returning_Visitor</td>\n",
       "      <td>False</td>\n",
       "      <td>1</td>\n",
       "      <td>1</td>\n",
       "    </tr>\n",
       "    <tr>\n",
       "      <th>11127</th>\n",
       "      <td>6</td>\n",
       "      <td>145.000000</td>\n",
       "      <td>0</td>\n",
       "      <td>0.0</td>\n",
       "      <td>85</td>\n",
       "      <td>1704.580556</td>\n",
       "      <td>0.002930</td>\n",
       "      <td>0.025399</td>\n",
       "      <td>0.000000</td>\n",
       "      <td>0.0</td>\n",
       "      <td>Nov</td>\n",
       "      <td>1</td>\n",
       "      <td>2</td>\n",
       "      <td>3</td>\n",
       "      <td>2</td>\n",
       "      <td>Returning_Visitor</td>\n",
       "      <td>False</td>\n",
       "      <td>1</td>\n",
       "      <td>1</td>\n",
       "    </tr>\n",
       "    <tr>\n",
       "      <th>11935</th>\n",
       "      <td>0</td>\n",
       "      <td>0.000000</td>\n",
       "      <td>0</td>\n",
       "      <td>0.0</td>\n",
       "      <td>18</td>\n",
       "      <td>353.083333</td>\n",
       "      <td>0.022222</td>\n",
       "      <td>0.050000</td>\n",
       "      <td>0.000000</td>\n",
       "      <td>0.0</td>\n",
       "      <td>Nov</td>\n",
       "      <td>1</td>\n",
       "      <td>1</td>\n",
       "      <td>1</td>\n",
       "      <td>2</td>\n",
       "      <td>Returning_Visitor</td>\n",
       "      <td>True</td>\n",
       "      <td>1</td>\n",
       "      <td>1</td>\n",
       "    </tr>\n",
       "  </tbody>\n",
       "</table>\n",
       "</div>"
      ],
      "text/plain": [
       "       Administrative  Administrative_Duration  Informational  \\\n",
       "601                 6                99.605882              0   \n",
       "8739                3               135.500000              0   \n",
       "5821                0                 0.000000              0   \n",
       "11127               6               145.000000              0   \n",
       "11935               0                 0.000000              0   \n",
       "\n",
       "       Informational_Duration  ProductRelated  ProductRelated_Duration  \\\n",
       "601                       0.0              83              2585.618350   \n",
       "8739                      0.0              30              2040.166667   \n",
       "5821                      0.0              29              1970.000000   \n",
       "11127                     0.0              85              1704.580556   \n",
       "11935                     0.0              18               353.083333   \n",
       "\n",
       "       BounceRates  ExitRates  PageValues  SpecialDay Month  OperatingSystems  \\\n",
       "601       0.000000   0.007619    6.871309         0.0   Mar                 2   \n",
       "8739      0.000000   0.022727    4.350514         0.0   Dec                 2   \n",
       "5821      0.000000   0.000000  100.725605         0.0   Oct                 4   \n",
       "11127     0.002930   0.025399    0.000000         0.0   Nov                 1   \n",
       "11935     0.022222   0.050000    0.000000         0.0   Nov                 1   \n",
       "\n",
       "       Browser  Region  TrafficType        VisitorType  Weekend  Revenue  \\\n",
       "601          2       2            2  Returning_Visitor    False        1   \n",
       "8739         2       8            2  Returning_Visitor    False        1   \n",
       "5821         1       5            2  Returning_Visitor    False        1   \n",
       "11127        2       3            2  Returning_Visitor    False        1   \n",
       "11935        1       1            2  Returning_Visitor     True        1   \n",
       "\n",
       "       class  \n",
       "601        1  \n",
       "8739       1  \n",
       "5821       1  \n",
       "11127      1  \n",
       "11935      1  "
      ]
     },
     "execution_count": 709,
     "metadata": {},
     "output_type": "execute_result"
    }
   ],
   "source": [
    "Z_train_40.head()"
   ]
  },
  {
   "cell_type": "code",
   "execution_count": 710,
   "metadata": {},
   "outputs": [
    {
     "name": "stdout",
     "output_type": "stream",
     "text": [
      "Best Threshold=0.883352, F-Score=0.608, Precision=0.582, Recall=0.636\n",
      "ROC-AUC score=0.928\n"
     ]
    }
   ],
   "source": [
    "new_preds_40 = pipeline.predict_proba(Z_test_40)[:, 1]\n",
    "new_precision_40, new_recall_40, new_thresholds_40 = precision_recall_curve(yy_test_40, new_preds_40)\n",
    "\n",
    "new_fscore_40 = (2 * new_precision_40 * new_recall_40) / (new_precision_40 + new_recall_40)\n",
    "# locate the index of the largest f score\n",
    "new_ix_40 = np.argmax(new_fscore_40)\n",
    "print('Best Threshold=%f, F-Score=%.3f, Precision=%.3f, Recall=%.3f' % (new_thresholds_40[new_ix_40], \n",
    "                                                                        new_fscore_40[new_ix_40],\n",
    "                                                                        new_precision_40[new_ix_40],\n",
    "                                                                        new_recall_40[new_ix_40]))\n",
    "print(f'ROC-AUC score={roc_auc_score(yy_test_40, new_preds_40):.3f}')"
   ]
  },
  {
   "cell_type": "code",
   "execution_count": 711,
   "metadata": {},
   "outputs": [
    {
     "data": {
      "text/html": [
       "<div>\n",
       "<style scoped>\n",
       "    .dataframe tbody tr th:only-of-type {\n",
       "        vertical-align: middle;\n",
       "    }\n",
       "\n",
       "    .dataframe tbody tr th {\n",
       "        vertical-align: top;\n",
       "    }\n",
       "\n",
       "    .dataframe thead th {\n",
       "        text-align: right;\n",
       "    }\n",
       "</style>\n",
       "<table border=\"1\" class=\"dataframe\">\n",
       "  <thead>\n",
       "    <tr style=\"text-align: right;\">\n",
       "      <th></th>\n",
       "      <th>method</th>\n",
       "      <th>precision</th>\n",
       "      <th>recall</th>\n",
       "      <th>fscore</th>\n",
       "      <th>roc_auc</th>\n",
       "    </tr>\n",
       "  </thead>\n",
       "  <tbody>\n",
       "    <tr>\n",
       "      <th>0</th>\n",
       "      <td>GradientBoosting</td>\n",
       "      <td>0.638146</td>\n",
       "      <td>0.732106</td>\n",
       "      <td>0.681905</td>\n",
       "      <td>0.931355</td>\n",
       "    </tr>\n",
       "    <tr>\n",
       "      <th>1</th>\n",
       "      <td>RandomNegativeSampling</td>\n",
       "      <td>0.563492</td>\n",
       "      <td>0.717690</td>\n",
       "      <td>0.631312</td>\n",
       "      <td>0.922342</td>\n",
       "    </tr>\n",
       "    <tr>\n",
       "      <th>2</th>\n",
       "      <td>RandomNegativeSampling-10%</td>\n",
       "      <td>0.537255</td>\n",
       "      <td>0.728293</td>\n",
       "      <td>0.618355</td>\n",
       "      <td>0.898129</td>\n",
       "    </tr>\n",
       "    <tr>\n",
       "      <th>3</th>\n",
       "      <td>RandomNegativeSampling-40%</td>\n",
       "      <td>0.582333</td>\n",
       "      <td>0.636364</td>\n",
       "      <td>0.608150</td>\n",
       "      <td>0.927576</td>\n",
       "    </tr>\n",
       "  </tbody>\n",
       "</table>\n",
       "</div>"
      ],
      "text/plain": [
       "                       method  precision    recall    fscore   roc_auc\n",
       "0            GradientBoosting   0.638146  0.732106  0.681905  0.931355\n",
       "1      RandomNegativeSampling   0.563492  0.717690  0.631312  0.922342\n",
       "2  RandomNegativeSampling-10%   0.537255  0.728293  0.618355  0.898129\n",
       "3  RandomNegativeSampling-40%   0.582333  0.636364  0.608150  0.927576"
      ]
     },
     "execution_count": 711,
     "metadata": {},
     "output_type": "execute_result"
    }
   ],
   "source": [
    "metrics = metrics.append(pd.DataFrame([['RandomNegativeSampling-10%', new_precision_10[new_ix_10], new_recall_10[new_ix_10], \n",
    "                              new_fscore_10[new_ix_10], roc_auc_score(yy_test_10, new_preds_10)],\n",
    "                             ['RandomNegativeSampling-40%', new_precision_40[new_ix_40], new_recall_40[new_ix_40], \n",
    "                              new_fscore_40[new_ix_40], roc_auc_score(yy_test_40, new_preds_40)]], \n",
    "                            columns=['method', 'precision', 'recall', 'fscore', 'roc_auc']), ignore_index=True)\n",
    "metrics"
   ]
  },
  {
   "cell_type": "markdown",
   "metadata": {},
   "source": [
    "Видим, что увеличение доли положительных наблюдений, которая семплируется в начале построения модели RandomNegativeSampling, ведет к увеличению обучающей выборки и к более высоким значениям `ROC-AUC score`. Для других метрик динамика не столь однозначна. Например, как видим при увеличении доли положительных наблюдений вырос показатель точности, но снизился показатель полноты."
   ]
  }
 ],
 "metadata": {
  "kernelspec": {
   "display_name": "Python 3",
   "language": "python",
   "name": "python3"
  },
  "language_info": {
   "codemirror_mode": {
    "name": "ipython",
    "version": 3
   },
   "file_extension": ".py",
   "mimetype": "text/x-python",
   "name": "python",
   "nbconvert_exporter": "python",
   "pygments_lexer": "ipython3",
   "version": "3.8.12"
  }
 },
 "nbformat": 4,
 "nbformat_minor": 4
}
